{
 "cells": [
  {
   "cell_type": "code",
   "execution_count": 2,
   "metadata": {},
   "outputs": [
    {
     "name": "stdout",
     "output_type": "stream",
     "text": [
      "['positive,The Da Vinci Code book is just awesome.', 'positive,i liked the Da Vinci Code a lot.', 'positive,i liked the Da Vinci Code a lot.', \"positive,I liked the Da Vinci Code but it ultimatly didn't seem to hold it's own.\", \"positive,that's not even an exaggeration ) and at midnight we went to Wal-Mart to buy the Da Vinci Code\"]\n",
      "['POSITIVE,THE DA VINCI CODE BOOK IS JUST AWESOME.', 'POSITIVE,I LIKED THE DA VINCI CODE A LOT.', 'POSITIVE,I LIKED THE DA VINCI CODE A LOT.', \"POSITIVE,I LIKED THE DA VINCI CODE BUT IT ULTIMATLY DIDN'T SEEM TO HOLD IT'S OWN.\", \"POSITIVE,THAT'S NOT EVEN AN EXAGGERATION ) AND AT MIDNIGHT WE WENT TO WAL-MART TO BUY THE DA VINCI CODE\"]\n",
      "100\n"
     ]
    }
   ],
   "source": [
    "# -*- coding: utf-8 -*-\n",
    "\"\"\"\n",
    "Configurando o Python para Executar Spark\n",
    "\"\"\"\n",
    "\n",
    "#Inicia o contexto\n",
    "from pyspark.sql import SparkSession\n",
    "from pyspark import SparkContext\n",
    "\n",
    "#Create a Spark Session\n",
    "SpSession = SparkSession \\\n",
    "    .builder \\\n",
    "    .master(\"local[2]\") \\\n",
    "    .appName(\"Configurando o Python para executar Spark\") \\\n",
    "    .config(\"spark.executor.memory\", \"1g\") \\\n",
    "    .config(\"spark.cores.max\",\"2\") \\\n",
    "    .config(\"spark.sql.warehouse.dir\", \"file:///c:/temp/spark-warehouse\")\\\n",
    "    .getOrCreate()\n",
    "\n",
    "#Inicia a sessão\n",
    "SpContext = SpSession.sparkContext\n",
    "\n",
    "#Cria um RDD a partir da leitura de um CSV\n",
    "tweetsRDD = SpContext.textFile(\"movietweets.csv\")\n",
    "\n",
    "#Mostra os 5 primeiro registros\n",
    "print(tweetsRDD.take(5))\n",
    "\n",
    "#Transformação de Dados - transforma caracteres de minúsculo para maiúsculo, gerando um novo RDD a partir\n",
    "\n",
    "#Primeiro aplicamos o MAP com LAMBDA\n",
    "ucRDD = tweetsRDD.map( lambda x : x.upper() )\n",
    "\n",
    "#Por fim, executamos a ação.\n",
    "print(ucRDD.take(5))\n",
    "\n",
    "\n",
    "#Ação: conta o quantidade de tweets no arquivo\n",
    "print(tweetsRDD.count())\n"
   ]
  },
  {
   "cell_type": "code",
   "execution_count": null,
   "metadata": {},
   "outputs": [],
   "source": []
  }
 ],
 "metadata": {
  "kernelspec": {
   "display_name": "Python 3",
   "language": "python",
   "name": "python3"
  },
  "language_info": {
   "codemirror_mode": {
    "name": "ipython",
    "version": 3
   },
   "file_extension": ".py",
   "mimetype": "text/x-python",
   "name": "python",
   "nbconvert_exporter": "python",
   "pygments_lexer": "ipython3",
   "version": "3.8.1"
  }
 },
 "nbformat": 4,
 "nbformat_minor": 4
}
